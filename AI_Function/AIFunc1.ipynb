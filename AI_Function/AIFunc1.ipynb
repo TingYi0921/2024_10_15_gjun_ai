{
 "cells": [
  {
   "cell_type": "code",
   "execution_count": null,
   "metadata": {},
   "outputs": [],
   "source": [
    "from rembg import remove #import 別人寫好的AI去背套件\n",
    "from os import walk\n",
    "import os\n",
    "originalPath = '/Users/tingyichu/Downloads/TestIMG' #放圖片的資料夾位置\n",
    "for root, dirs, files in walk(originalPath): #把所有資料夾下的檔案名稱抓近來\n",
    "    for file in files:\n",
    "        ext = str(file).split('.')[-1].lower() #抓取副檔名\n",
    "        if ext == 'jpeg' or ext == 'jpg' or ext == 'webp': #如果副檔名為以下這些\n",
    "            fullFileName = os.path.join(root, file).replace('\\\\','/') # 把輸出預測的 \\ 斜線改成 / 斜線\n",
    "            print('圖檔:',fullFileName) #輸出找到的檔案\n",
    "            try:\n",
    "                with open(fullFileName, 'rb') as i,open(fullFileName+'.png', 'wb') as o:\n",
    "                    input = i.read()\n",
    "                    output = remove(input)\n",
    "                    o.write(output)\n",
    "                    print('成功去背',fullFileName)\n",
    "            except:\n",
    "                print('轉檔失敗',fullFileName)"
   ]
  }
 ],
 "metadata": {
  "kernelspec": {
   "display_name": "Python 3",
   "language": "python",
   "name": "python3"
  },
  "language_info": {
   "codemirror_mode": {
    "name": "ipython",
    "version": 3
   },
   "file_extension": ".py",
   "mimetype": "text/x-python",
   "name": "python",
   "nbconvert_exporter": "python",
   "pygments_lexer": "ipython3",
   "version": "3.10.15"
  }
 },
 "nbformat": 4,
 "nbformat_minor": 2
}
