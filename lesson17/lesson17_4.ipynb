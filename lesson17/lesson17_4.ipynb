{
 "cells": [
  {
   "cell_type": "code",
   "execution_count": null,
   "metadata": {},
   "outputs": [],
   "source": [
    "import yfinance as yf\n",
    "yf.download('AAPL')"
   ]
  },
  {
   "cell_type": "code",
   "execution_count": null,
   "metadata": {},
   "outputs": [],
   "source": [
    "all_data = {}\n",
    "for ticker in ['AAPL', 'IBM', 'MSFT', 'GOOG']:\n",
    "    all_data[ticker] = yf.download(ticker)\n",
    "all_data"
   ]
  },
  {
   "cell_type": "code",
   "execution_count": 7,
   "metadata": {},
   "outputs": [
    {
     "name": "stderr",
     "output_type": "stream",
     "text": [
      "[*********************100%***********************]  1 of 1 completed\n",
      "[*********************100%***********************]  1 of 1 completed\n",
      "[*********************100%***********************]  1 of 1 completed\n",
      "[*********************100%***********************]  1 of 1 completed\n"
     ]
    },
    {
     "data": {
      "text/plain": [
       "{'AAPL': Price            Close        High         Low        Open     Volume\n",
       " Ticker            AAPL        AAPL        AAPL        AAPL       AAPL\n",
       " Date                                                                 \n",
       " 1980-12-12    0.098834    0.099264    0.098834    0.098834  469033600\n",
       " 1980-12-15    0.093678    0.094108    0.093678    0.094108  175884800\n",
       " 1980-12-16    0.086802    0.087232    0.086802    0.087232  105728000\n",
       " 1980-12-17    0.088951    0.089381    0.088951    0.088951   86441600\n",
       " 1980-12-18    0.091530    0.091959    0.091530    0.091530   73449600\n",
       " ...                ...         ...         ...         ...        ...\n",
       " 2024-12-16  251.039993  251.380005  247.649994  247.990005   51694800\n",
       " 2024-12-17  253.479996  253.830002  249.779999  250.080002   51356400\n",
       " 2024-12-18  248.050003  254.279999  247.740005  252.160004   56774100\n",
       " 2024-12-19  249.789993  252.000000  247.089996  247.500000   60882300\n",
       " 2024-12-20  254.490005  255.000000  245.690002  248.039993  146890100\n",
       " \n",
       " [11099 rows x 5 columns],\n",
       " 'IBM': Price            Close        High         Low        Open    Volume\n",
       " Ticker             IBM         IBM         IBM         IBM       IBM\n",
       " Date                                                                \n",
       " 1962-01-02    1.513319    1.530516    1.513319    1.530516    407940\n",
       " 1962-01-03    1.526549    1.526549    1.513321    1.513321    305955\n",
       " 1962-01-04    1.511335    1.526548    1.510674    1.526548    274575\n",
       " 1962-01-05    1.481572    1.509352    1.478927    1.509352    384405\n",
       " 1962-01-08    1.453794    1.480251    1.441889    1.480251    572685\n",
       " ...                ...         ...         ...         ...       ...\n",
       " 2024-12-16  229.330002  231.029999  226.880005  230.729996   3610300\n",
       " 2024-12-17  228.970001  230.199997  227.619995  229.229996   3651300\n",
       " 2024-12-18  220.169998  229.039993  220.029999  229.039993   4152500\n",
       " 2024-12-19  223.919998  226.199997  222.979996  224.419998   4427200\n",
       " 2024-12-20  223.360001  227.679993  221.679993  222.729996  12422400\n",
       " \n",
       " [15852 rows x 5 columns],\n",
       " 'MSFT': Price            Close        High         Low        Open      Volume\n",
       " Ticker            MSFT        MSFT        MSFT        MSFT        MSFT\n",
       " Date                                                                  \n",
       " 1986-03-13    0.059827    0.062498    0.054485    0.054485  1031788800\n",
       " 1986-03-14    0.061963    0.063032    0.059827    0.059827   308160000\n",
       " 1986-03-17    0.063032    0.063566    0.061963    0.061963   133171200\n",
       " 1986-03-18    0.061429    0.063566    0.060895    0.063032    67766400\n",
       " 1986-03-19    0.060361    0.061963    0.059827    0.061429    47894400\n",
       " ...                ...         ...         ...         ...         ...\n",
       " 2024-12-16  451.589996  452.179993  445.279999  447.269989    23598800\n",
       " 2024-12-17  454.459991  455.290009  449.570007  451.010010    22733500\n",
       " 2024-12-18  437.390015  452.649994  437.019989  451.320007    24444500\n",
       " 2024-12-19  437.029999  443.179993  436.320007  441.619995    22963700\n",
       " 2024-12-20  436.600006  443.739990  428.630005  433.109985    64235200\n",
       " \n",
       " [9773 rows x 5 columns],\n",
       " 'GOOG': Price            Close        High         Low        Open     Volume\n",
       " Ticker            GOOG        GOOG        GOOG        GOOG       GOOG\n",
       " Date                                                                 \n",
       " 2004-08-19    2.490186    2.582506    2.381485    2.481747  897427216\n",
       " 2004-08-20    2.687981    2.707090    2.494156    2.506813  458857488\n",
       " 2004-08-23    2.715032    2.816287    2.706346    2.748535  366857939\n",
       " 2004-08-24    2.602609    2.769630    2.570346    2.760696  306396159\n",
       " 2004-08-25    2.630652    2.680287    2.578039    2.604841  184645512\n",
       " ...                ...         ...         ...         ...        ...\n",
       " 2024-12-16  198.160004  200.639999  194.110001  194.365005   32248600\n",
       " 2024-12-17  197.119995  202.880005  196.690002  198.529999   24129500\n",
       " 2024-12-18  190.149994  198.690002  189.279999  196.830002   27638400\n",
       " 2024-12-19  189.699997  194.600006  189.520004  193.279999   26981200\n",
       " 2024-12-20  192.960007  194.134995  186.369995  187.009995   45260900\n",
       " \n",
       " [5121 rows x 5 columns]}"
      ]
     },
     "execution_count": 7,
     "metadata": {},
     "output_type": "execute_result"
    }
   ],
   "source": [
    "all_data = {ticker:yf.download(ticker) for ticker in ['AAPL', 'IBM', 'MSFT', 'GOOG']}\n",
    "all_data"
   ]
  },
  {
   "cell_type": "code",
   "execution_count": 8,
   "metadata": {},
   "outputs": [
    {
     "name": "stdout",
     "output_type": "stream",
     "text": [
      "<class 'pandas.core.frame.DataFrame'>\n",
      "DatetimeIndex: 11099 entries, 1980-12-12 to 2024-12-20\n",
      "Data columns (total 5 columns):\n",
      " #   Column          Non-Null Count  Dtype  \n",
      "---  ------          --------------  -----  \n",
      " 0   (Close, AAPL)   11099 non-null  float64\n",
      " 1   (High, AAPL)    11099 non-null  float64\n",
      " 2   (Low, AAPL)     11099 non-null  float64\n",
      " 3   (Open, AAPL)    11099 non-null  float64\n",
      " 4   (Volume, AAPL)  11099 non-null  int64  \n",
      "dtypes: float64(4), int64(1)\n",
      "memory usage: 520.3 KB\n"
     ]
    }
   ],
   "source": [
    "all_data['AAPL'].info()"
   ]
  },
  {
   "cell_type": "code",
   "execution_count": 15,
   "metadata": {},
   "outputs": [
    {
     "data": {
      "text/plain": [
       "Date\n",
       "1980-12-12      0.098834\n",
       "1980-12-15      0.093678\n",
       "1980-12-16      0.086802\n",
       "1980-12-17      0.088951\n",
       "1980-12-18      0.091530\n",
       "                 ...    \n",
       "2024-12-16    251.039993\n",
       "2024-12-17    253.479996\n",
       "2024-12-18    248.050003\n",
       "2024-12-19    249.789993\n",
       "2024-12-20    254.490005\n",
       "Name: (Close, AAPL), Length: 11099, dtype: float64"
      ]
     },
     "execution_count": 15,
     "metadata": {},
     "output_type": "execute_result"
    }
   ],
   "source": [
    "all_data['AAPL'][('Close', 'AAPL')]"
   ]
  },
  {
   "cell_type": "code",
   "execution_count": null,
   "metadata": {},
   "outputs": [],
   "source": [
    "for key,value in {'tw':'taiwan','jp':'japan'}.items():\n",
    "    print(key)\n",
    "    print(value)"
   ]
  },
  {
   "cell_type": "code",
   "execution_count": 17,
   "metadata": {},
   "outputs": [],
   "source": [
    "new_data = {key:df[('Close', key)] for key,df in all_data.items()}"
   ]
  },
  {
   "cell_type": "code",
   "execution_count": 18,
   "metadata": {},
   "outputs": [
    {
     "data": {
      "text/html": [
       "<div>\n",
       "<style scoped>\n",
       "    .dataframe tbody tr th:only-of-type {\n",
       "        vertical-align: middle;\n",
       "    }\n",
       "\n",
       "    .dataframe tbody tr th {\n",
       "        vertical-align: top;\n",
       "    }\n",
       "\n",
       "    .dataframe thead th {\n",
       "        text-align: right;\n",
       "    }\n",
       "</style>\n",
       "<table border=\"1\" class=\"dataframe\">\n",
       "  <thead>\n",
       "    <tr style=\"text-align: right;\">\n",
       "      <th></th>\n",
       "      <th>AAPL</th>\n",
       "      <th>IBM</th>\n",
       "      <th>MSFT</th>\n",
       "      <th>GOOG</th>\n",
       "    </tr>\n",
       "    <tr>\n",
       "      <th>Date</th>\n",
       "      <th></th>\n",
       "      <th></th>\n",
       "      <th></th>\n",
       "      <th></th>\n",
       "    </tr>\n",
       "  </thead>\n",
       "  <tbody>\n",
       "    <tr>\n",
       "      <th>1962-01-02</th>\n",
       "      <td>NaN</td>\n",
       "      <td>1.513319</td>\n",
       "      <td>NaN</td>\n",
       "      <td>NaN</td>\n",
       "    </tr>\n",
       "    <tr>\n",
       "      <th>1962-01-03</th>\n",
       "      <td>NaN</td>\n",
       "      <td>1.526549</td>\n",
       "      <td>NaN</td>\n",
       "      <td>NaN</td>\n",
       "    </tr>\n",
       "    <tr>\n",
       "      <th>1962-01-04</th>\n",
       "      <td>NaN</td>\n",
       "      <td>1.511335</td>\n",
       "      <td>NaN</td>\n",
       "      <td>NaN</td>\n",
       "    </tr>\n",
       "    <tr>\n",
       "      <th>1962-01-05</th>\n",
       "      <td>NaN</td>\n",
       "      <td>1.481572</td>\n",
       "      <td>NaN</td>\n",
       "      <td>NaN</td>\n",
       "    </tr>\n",
       "    <tr>\n",
       "      <th>1962-01-08</th>\n",
       "      <td>NaN</td>\n",
       "      <td>1.453794</td>\n",
       "      <td>NaN</td>\n",
       "      <td>NaN</td>\n",
       "    </tr>\n",
       "    <tr>\n",
       "      <th>...</th>\n",
       "      <td>...</td>\n",
       "      <td>...</td>\n",
       "      <td>...</td>\n",
       "      <td>...</td>\n",
       "    </tr>\n",
       "    <tr>\n",
       "      <th>2024-12-16</th>\n",
       "      <td>251.039993</td>\n",
       "      <td>229.330002</td>\n",
       "      <td>451.589996</td>\n",
       "      <td>198.160004</td>\n",
       "    </tr>\n",
       "    <tr>\n",
       "      <th>2024-12-17</th>\n",
       "      <td>253.479996</td>\n",
       "      <td>228.970001</td>\n",
       "      <td>454.459991</td>\n",
       "      <td>197.119995</td>\n",
       "    </tr>\n",
       "    <tr>\n",
       "      <th>2024-12-18</th>\n",
       "      <td>248.050003</td>\n",
       "      <td>220.169998</td>\n",
       "      <td>437.390015</td>\n",
       "      <td>190.149994</td>\n",
       "    </tr>\n",
       "    <tr>\n",
       "      <th>2024-12-19</th>\n",
       "      <td>249.789993</td>\n",
       "      <td>223.919998</td>\n",
       "      <td>437.029999</td>\n",
       "      <td>189.699997</td>\n",
       "    </tr>\n",
       "    <tr>\n",
       "      <th>2024-12-20</th>\n",
       "      <td>254.490005</td>\n",
       "      <td>223.360001</td>\n",
       "      <td>436.600006</td>\n",
       "      <td>192.960007</td>\n",
       "    </tr>\n",
       "  </tbody>\n",
       "</table>\n",
       "<p>15852 rows × 4 columns</p>\n",
       "</div>"
      ],
      "text/plain": [
       "                  AAPL         IBM        MSFT        GOOG\n",
       "Date                                                      \n",
       "1962-01-02         NaN    1.513319         NaN         NaN\n",
       "1962-01-03         NaN    1.526549         NaN         NaN\n",
       "1962-01-04         NaN    1.511335         NaN         NaN\n",
       "1962-01-05         NaN    1.481572         NaN         NaN\n",
       "1962-01-08         NaN    1.453794         NaN         NaN\n",
       "...                ...         ...         ...         ...\n",
       "2024-12-16  251.039993  229.330002  451.589996  198.160004\n",
       "2024-12-17  253.479996  228.970001  454.459991  197.119995\n",
       "2024-12-18  248.050003  220.169998  437.390015  190.149994\n",
       "2024-12-19  249.789993  223.919998  437.029999  189.699997\n",
       "2024-12-20  254.490005  223.360001  436.600006  192.960007\n",
       "\n",
       "[15852 rows x 4 columns]"
      ]
     },
     "execution_count": 18,
     "metadata": {},
     "output_type": "execute_result"
    }
   ],
   "source": [
    "import pandas as pd\n",
    "pd.DataFrame(new_data)"
   ]
  }
 ],
 "metadata": {
  "kernelspec": {
   "display_name": "Python 3",
   "language": "python",
   "name": "python3"
  },
  "language_info": {
   "codemirror_mode": {
    "name": "ipython",
    "version": 3
   },
   "file_extension": ".py",
   "mimetype": "text/x-python",
   "name": "python",
   "nbconvert_exporter": "python",
   "pygments_lexer": "ipython3",
   "version": "3.10.15"
  }
 },
 "nbformat": 4,
 "nbformat_minor": 2
}
