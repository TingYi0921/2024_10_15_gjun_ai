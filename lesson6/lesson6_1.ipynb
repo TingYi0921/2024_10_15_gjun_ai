{
 "cells": [
  {
   "cell_type": "code",
   "execution_count": 2,
   "metadata": {},
   "outputs": [
    {
     "name": "stdout",
     "output_type": "stream",
     "text": [
      "恭喜!已經存夠了，存了6個月的總存款為:30000元。\n"
     ]
    }
   ],
   "source": [
    "#小明想要存錢買一輛機車,機車每輛30000元，他將每月存的錢輸入，當存款足夠買機車時，就顯示提示訊息告知。\n",
    "deposit = 0\n",
    "month = 0\n",
    "\n",
    "while(True):\n",
    "    month += 1\n",
    "    money = int(input(f\"請輸入第{month}月份的存款:\"))\n",
    "    deposit += money\n",
    "    if deposit >= 30000:\n",
    "        break\n",
    "print(f\"恭喜!已經存夠了，存了{month}個月的總存款為:{deposit}元。\")"
   ]
  },
  {
   "cell_type": "code",
   "execution_count": 3,
   "metadata": {},
   "outputs": [
    {
     "name": "stdout",
     "output_type": "stream",
     "text": [
      "Taipei\n",
      "應用程式結束\n"
     ]
    }
   ],
   "source": [
    "#請輸入小寫英文字母，輸出第一個字大寫的英文字，如果按q英文字，將離開應用程式\n",
    "\n",
    "while(True):\n",
    "    stuff = input(\"請輸入小寫英文字[案q會離開]:\")\n",
    "    if stuff.upper() == 'Q':\n",
    "        break\n",
    "    print(stuff.capitalize())\n",
    "print(\"應用程式結束\")"
   ]
  },
  {
   "cell_type": "code",
   "execution_count": 5,
   "metadata": {},
   "outputs": [
    {
     "name": "stdout",
     "output_type": "stream",
     "text": [
      "289\n",
      "請重新輸入\n",
      "請重新輸入\n",
      "請重新輸入\n",
      "請重新輸入\n",
      "請重新輸入\n",
      "225\n",
      "應用程式結束\n"
     ]
    }
   ],
   "source": [
    "'''\n",
    "docstring\n",
    "顯示:\n",
    "請輸入整數，輸入[q]離開\n",
    "輸入格式錯誤，要求重新輸入\n",
    "奇數輸出平方\n",
    "偶數不做任何動作\n",
    "'q'要離開\n",
    "'''\n",
    "\n",
    "while(True):\n",
    "    value = input(\"請輸入整數，輸入[q]離開:\")\n",
    "    if value.upper() == 'Q':\n",
    "        break\n",
    "    try:\n",
    "        value_int = int(value)\n",
    "    except:\n",
    "        print(\"請重新輸入\")\n",
    "        continue\n",
    "    if not (value_int % 2 == 0):\n",
    "        print(value_int**2)\n",
    "        \n",
    "print(\"應用程式結束\")"
   ]
  },
  {
   "cell_type": "code",
   "execution_count": 7,
   "metadata": {},
   "outputs": [
    {
     "data": {
      "text/plain": [
       "20"
      ]
     },
     "execution_count": 7,
     "metadata": {},
     "output_type": "execute_result"
    }
   ],
   "source": [
    "#建立亂數\n",
    "import random\n",
    "random.randint(1, 20)"
   ]
  },
  {
   "cell_type": "code",
   "execution_count": null,
   "metadata": {},
   "outputs": [
    {
     "name": "stdout",
     "output_type": "stream",
     "text": [
      "===========猜數字遊戲===========\n",
      "\n",
      "再小一點\n",
      "您已經猜了1次\n",
      "================\n",
      "再小一點\n",
      "您已經猜了2次\n",
      "================\n",
      "再小一點\n",
      "您已經猜了3次\n",
      "================\n",
      "賓果!猜對了, 答案是:10\n",
      "您總共猜了4次\n",
      "===============\n",
      "應用程式結束\n"
     ]
    }
   ],
   "source": [
    "#猜數字遊戲\n",
    "import random\n",
    "\n",
    "min = 1 #設最小範圍\n",
    "max = 100 #設最大範圍\n",
    "count = 0 #計算猜的次數\n",
    "target = random.randint(min, max) #建立一個亂數生成的目標\n",
    "print(\"===========猜數字遊戲===========\\n\") #印出遊戲名稱代表遊戲開始\n",
    "while(True):\n",
    "    count += 1 #迴圈開始時開始計算猜的次數\n",
    "    try:\n",
    "        keyin = int(input(f\"猜數字範圍{min}~{max}:\")) #使用者輸入猜的值\n",
    "    except Exception: #檢查格式是否正確，若錯誤則重新跑一次迴圈\n",
    "        print(\"請重新輸入\")\n",
    "        continue #繼續重跑迴圈\n",
    "    if keyin >= min and keyin <= max: #判斷使用者輸入是否在範圍內\n",
    "        if(keyin == target): #如果在範圍內\n",
    "            print(f\"賓果!猜對了, 答案是:{target}\")\n",
    "            print(f\"您總共猜了{count}次\")\n",
    "            print(\"===============\")\n",
    "            break\n",
    "        elif keyin > target: #如果在範圍內，且猜的數字比目標大\n",
    "            print(\"再小一點\")\n",
    "            max = keyin - 1            \n",
    "        elif keyin < target: #如果在範圍內，且猜的數字比目標小\n",
    "            print(\"再大一點\")\n",
    "            min = keyin + 1\n",
    "        print(f\"您已經猜了{count}次\")\n",
    "        print(\"================\")\n",
    "\n",
    "    else:\n",
    "        print(\"超出範圍,請重新輸入\")\n",
    "\n",
    "print(\"應用程式結束\")   "
   ]
  },
  {
   "cell_type": "code",
   "execution_count": null,
   "metadata": {},
   "outputs": [],
   "source": [
    "#BMI計算機\n",
    "try:\n",
    "    while(True):\n",
    "        name = str(input(\"請輸入姓名:\"))\n",
    "        height = eval(input(\"請輸入身高(cm):\"))\n",
    "        weight = eval(input(\"請輸入體重(kg):\"))\n",
    "        BMI = weight / ((height/100)**2)\n",
    "        print(f\"請輸入身高(cm):{height}\")\n",
    "        print(f\"請輸入體重(kg):{weight}\")\n",
    "        print(f\"{name}的BMI值:{BMI:.2f}\")\n",
    "        if BMI >=35:\n",
    "            print(\"您的體重:重度肥胖\")\n",
    "        elif BMI >= 30:\n",
    "            print(\"您的體重:中度肥胖\")\n",
    "        elif BMI >= 27:\n",
    "            print(\"您的體重:輕度肥胖\")\n",
    "        elif BMI >= 24:\n",
    "            print(\"您的體重:過重\")\n",
    "        elif BMI >= 18.5:\n",
    "            print(\"您的體重:正常範圍\")\n",
    "        else:\n",
    "            print(\"您的體重:體重過輕\")\n",
    "    \n",
    "\n",
    "except Exception :\n",
    "    print(\"輸入格式錯誤,結束程式\")"
   ]
  }
 ],
 "metadata": {
  "kernelspec": {
   "display_name": "Python 3",
   "language": "python",
   "name": "python3"
  },
  "language_info": {
   "codemirror_mode": {
    "name": "ipython",
    "version": 3
   },
   "file_extension": ".py",
   "mimetype": "text/x-python",
   "name": "python",
   "nbconvert_exporter": "python",
   "pygments_lexer": "ipython3",
   "version": "3.10.15"
  }
 },
 "nbformat": 4,
 "nbformat_minor": 2
}
