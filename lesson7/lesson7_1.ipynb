{
 "cells": [
  {
   "cell_type": "code",
   "execution_count": 1,
   "metadata": {},
   "outputs": [
    {
     "name": "stdout",
     "output_type": "stream",
     "text": [
      "BMI的計算\n",
      "請輸入姓名：朱廷翊\n",
      "請輸入身高(cm):170\n",
      "請輸入體重(kg):72\n",
      "朱廷翊的BMI值:24.91\n",
      "朱廷翊的體重:過重\n",
      "您還要繼續嗎？(y繼續,n結束):n\n",
      "==========================\n",
      "應用程式結束\n"
     ]
    }
   ],
   "source": [
    "def get_status(name:str,BMI:int)->None:#沒有傳出值的Function\n",
    "    if BMI >=35:\n",
    "        print(f\"{name}的體重:重度肥胖\")\n",
    "    elif BMI >= 30:\n",
    "        print(f\"{name}的體重:中度肥胖\")\n",
    "    elif BMI >= 27:\n",
    "        print(f\"{name}的體重:輕度肥胖\")\n",
    "    elif BMI >= 24:\n",
    "        print(f\"{name}的體重:過重\")\n",
    "    elif BMI >= 18.5:\n",
    "        print(f\"{name}的體重:正常範圍\")\n",
    "    else:\n",
    "        print(f\"{name}的體重:體重過輕\")\n",
    "\n",
    "while(True):\n",
    "    print(\"BMI的計算\")\n",
    "    name = str(input(\"請輸入姓名:\"))\n",
    "    try:\n",
    "        height = eval(input(\"請輸入身高(cm):\"))\n",
    "        weight = eval(input(\"請輸入體重(kg):\"))\n",
    "    except Exception:\n",
    "        print(\"輸入格式錯誤,請重新輸入\")\n",
    "        print(\"==========================\")\n",
    "        continue\n",
    "    BMI = weight / ((height/100)**2)\n",
    "    print(f\"請輸入姓名：{name}\")\n",
    "    print(f\"請輸入身高(cm):{height}\")\n",
    "    print(f\"請輸入體重(kg):{weight}\")\n",
    "    print(f\"{name}的BMI值:{BMI:.2f}\")\n",
    "\n",
    "    get_status(name,BMI)\n",
    "\n",
    "    ans = str(input(\"您還要繼續嗎？(y繼續,n結束):\"))\n",
    "    print(f\"您還要繼續嗎？(y繼續,n結束):{ans}\")\n",
    "\n",
    "    if ans.upper() == 'Y':\n",
    "        print(\"==========================\")\n",
    "        continue\n",
    "    elif ans.upper() == 'N':\n",
    "        print(\"==========================\")\n",
    "        break\n",
    "\n",
    "print(\"應用程式結束\")"
   ]
  },
  {
   "cell_type": "code",
   "execution_count": 2,
   "metadata": {},
   "outputs": [
    {
     "name": "stdout",
     "output_type": "stream",
     "text": [
      "BMI的計算\n",
      "請輸入姓名：朱廷翊\n",
      "請輸入身高(cm):170\n",
      "請輸入體重(kg):72\n",
      "朱廷翊的BMI值:24.91\n",
      "朱廷翊的體重:過重\n",
      "您還要繼續嗎？(y繼續,n結束):n\n",
      "==========================\n",
      "應用程式結束\n"
     ]
    }
   ],
   "source": [
    "def get_status(BMI:int)->str:#有傳出值的Function\n",
    "    if BMI >=35:\n",
    "        status = \"重度肥胖\"\n",
    "    elif BMI >= 30:\n",
    "        status = \"中度肥胖\"\n",
    "    elif BMI >= 27:\n",
    "       status = \"輕度肥胖\"\n",
    "    elif BMI >= 24:\n",
    "        status = \"過重\"\n",
    "    elif BMI >= 18.5:\n",
    "        status = \"正常範圍\"\n",
    "    else:\n",
    "        status = \"體重過輕\"\n",
    "    return status\n",
    "\n",
    "while(True):\n",
    "    print(\"BMI的計算\")\n",
    "    name = str(input(\"請輸入姓名:\"))\n",
    "    try:\n",
    "        height = eval(input(\"請輸入身高(cm):\"))\n",
    "        weight = eval(input(\"請輸入體重(kg):\"))\n",
    "    except Exception:\n",
    "        print(\"輸入格式錯誤,請重新輸入\")\n",
    "        print(\"==========================\")\n",
    "        continue\n",
    "    BMI = weight / ((height/100)**2)\n",
    "    print(f\"請輸入姓名：{name}\")\n",
    "    print(f\"請輸入身高(cm):{height}\")\n",
    "    print(f\"請輸入體重(kg):{weight}\")\n",
    "    print(f\"{name}的BMI值:{BMI:.2f}\")\n",
    "\n",
    "    status = get_status(BMI)\n",
    "    print(f\"{name}的體重:{status}\")\n",
    "\n",
    "    ans = str(input(\"您還要繼續嗎？(y繼續,n結束):\"))\n",
    "    print(f\"您還要繼續嗎？(y繼續,n結束):{ans}\")\n",
    "\n",
    "    if ans.upper() == 'Y':\n",
    "        print(\"==========================\")\n",
    "        continue\n",
    "    elif ans.upper() == 'N':\n",
    "        print(\"==========================\")\n",
    "        break\n",
    "\n",
    "print(\"應用程式結束\")"
   ]
  }
 ],
 "metadata": {
  "kernelspec": {
   "display_name": "Python 3",
   "language": "python",
   "name": "python3"
  },
  "language_info": {
   "codemirror_mode": {
    "name": "ipython",
    "version": 3
   },
   "file_extension": ".py",
   "mimetype": "text/x-python",
   "name": "python",
   "nbconvert_exporter": "python",
   "pygments_lexer": "ipython3",
   "version": "3.10.15"
  }
 },
 "nbformat": 4,
 "nbformat_minor": 2
}
