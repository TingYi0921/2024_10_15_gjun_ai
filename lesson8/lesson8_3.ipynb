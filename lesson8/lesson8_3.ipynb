{
 "cells": [
  {
   "cell_type": "code",
   "execution_count": 11,
   "metadata": {},
   "outputs": [
    {
     "name": "stdout",
     "output_type": "stream",
     "text": [
      "劉慧君\n",
      "黎惠雯\n",
      "吳欣書\n",
      "陳筱涵\n",
      "蘇凡菁\n"
     ]
    }
   ],
   "source": [
    "import random\n",
    "\n",
    "def get_names(nums:int=2)->list[str]:\n",
    "    with open('names.txt',mode='r',encoding='utf-8') as file: \n",
    "        names_str = file.read()\n",
    "    names:list[str] = names_str.split(sep='\\n')\n",
    "    names = random.choices(names,k=nums)\n",
    "    return names\n",
    "\n",
    "nums = int(input('請輸入學生數量(最多10位):'))\n",
    "student_names:list[str] = get_names(nums=nums)\n",
    "for name in student_names:\n",
    "    print(name)"
   ]
  },
  {
   "cell_type": "code",
   "execution_count": 26,
   "metadata": {},
   "outputs": [],
   "source": [
    "def generate_students(names:list[str]) -> list[dict]:\n",
    "    students:list[dict] = []\n",
    "    for name in names:\n",
    "        chinese = random.randint(50, 100)\n",
    "        english = random.randint(50, 100)\n",
    "        math = random.randint(50, 100)\n",
    "        student = {'name':name,'chinese':chinese,'english':english,'math':math}\n",
    "        students.append(student)\n",
    "    return students"
   ]
  },
  {
   "cell_type": "code",
   "execution_count": 27,
   "metadata": {},
   "outputs": [
    {
     "data": {
      "text/plain": [
       "[{'name': '劉慧君', 'chinese': 71, 'english': 97, 'math': 78},\n",
       " {'name': '黎惠雯', 'chinese': 52, 'english': 84, 'math': 79},\n",
       " {'name': '吳欣書', 'chinese': 94, 'english': 84, 'math': 68},\n",
       " {'name': '陳筱涵', 'chinese': 88, 'english': 92, 'math': 94},\n",
       " {'name': '蘇凡菁', 'chinese': 71, 'english': 73, 'math': 88}]"
      ]
     },
     "execution_count": 27,
     "metadata": {},
     "output_type": "execute_result"
    }
   ],
   "source": [
    "students = generate_students(names=student_names)\n",
    "students"
   ]
  }
 ],
 "metadata": {
  "kernelspec": {
   "display_name": "Python 3",
   "language": "python",
   "name": "python3"
  },
  "language_info": {
   "codemirror_mode": {
    "name": "ipython",
    "version": 3
   },
   "file_extension": ".py",
   "mimetype": "text/x-python",
   "name": "python",
   "nbconvert_exporter": "python",
   "pygments_lexer": "ipython3",
   "version": "3.10.15"
  }
 },
 "nbformat": 4,
 "nbformat_minor": 2
}
