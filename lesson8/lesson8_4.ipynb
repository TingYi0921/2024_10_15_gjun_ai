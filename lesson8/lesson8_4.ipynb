{
 "cells": [
  {
   "cell_type": "code",
   "execution_count": 30,
   "metadata": {},
   "outputs": [],
   "source": [
    "import random\n",
    "\n",
    "def get_names(nums:int=2)->list[str]:\n",
    "    with open('names.txt',mode='r',encoding='utf-8') as file: \n",
    "        names_str = file.read()\n",
    "    names:list[str] = names_str.split(sep='\\n')\n",
    "    names = random.choices(names,k=nums)\n",
    "    return names\n",
    "\n",
    "nums = int(input('請輸入人數(最多10位):'))\n",
    "people_names:list[str] = get_names(nums=nums)\n"
   ]
  },
  {
   "cell_type": "code",
   "execution_count": 33,
   "metadata": {},
   "outputs": [],
   "source": [
    "def generate_BMI(names:list[str]) -> list[dict]:\n",
    "    peoples:list[dict] = []\n",
    "    for name in names:\n",
    "        height = random.randint(140, 200)\n",
    "        weight = random.randint(40, 100)\n",
    "        BMI = weight / ((height/100)**2)\n",
    "        def get_status(BMI:float)->str:\n",
    "            if BMI >=35:\n",
    "                status = \"重度肥胖\"\n",
    "            elif BMI >= 30:\n",
    "                status = \"中度肥胖\"\n",
    "            elif BMI >= 27:\n",
    "                status = \"輕度肥胖\"\n",
    "            elif BMI >= 24:\n",
    "                status = \"過重\"\n",
    "            elif BMI >= 18.5:\n",
    "                status = \"正常範圍\"\n",
    "            else:\n",
    "                status = \"體重過輕\"\n",
    "            return status\n",
    "        people = {'姓名:':name,'身高:':height,'體重:':weight,'BMI:':round(BMI,ndigits=2),'狀態:':get_status(BMI)}\n",
    "        peoples.append(people)\n",
    "    return peoples"
   ]
  },
  {
   "cell_type": "code",
   "execution_count": 34,
   "metadata": {},
   "outputs": [
    {
     "name": "stdout",
     "output_type": "stream",
     "text": [
      "請輸入人數:5\n",
      "姓名:陳志偉\n",
      "身高:166\n",
      "體重:88\n",
      "BMI:31.93\n",
      "狀態:中度肥胖\n",
      "================================\n",
      "姓名:柯韋成\n",
      "身高:184\n",
      "體重:80\n",
      "BMI:23.63\n",
      "狀態:正常範圍\n",
      "================================\n",
      "姓名:林柏洋\n",
      "身高:150\n",
      "體重:100\n",
      "BMI:44.44\n",
      "狀態:重度肥胖\n",
      "================================\n",
      "姓名:馮耀中\n",
      "身高:197\n",
      "體重:89\n",
      "BMI:22.93\n",
      "狀態:正常範圍\n",
      "================================\n",
      "姓名:陳得映\n",
      "身高:190\n",
      "體重:72\n",
      "BMI:19.94\n",
      "狀態:正常範圍\n",
      "================================\n"
     ]
    }
   ],
   "source": [
    "print(f'請輸入人數:{nums}')\n",
    "peoples = generate_BMI(names=people_names)\n",
    "for people in peoples:\n",
    "    for key, value in people.items():\n",
    "        print(f'{key}{value}')\n",
    "    print(\"================================\")"
   ]
  }
 ],
 "metadata": {
  "kernelspec": {
   "display_name": "Python 3",
   "language": "python",
   "name": "python3"
  },
  "language_info": {
   "codemirror_mode": {
    "name": "ipython",
    "version": 3
   },
   "file_extension": ".py",
   "mimetype": "text/x-python",
   "name": "python",
   "nbconvert_exporter": "python",
   "pygments_lexer": "ipython3",
   "version": "3.10.15"
  }
 },
 "nbformat": 4,
 "nbformat_minor": 2
}
