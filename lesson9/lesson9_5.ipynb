{
 "cells": [
  {
   "cell_type": "code",
   "execution_count": 12,
   "metadata": {},
   "outputs": [],
   "source": [
    "import random\n",
    "\n",
    "def get_name(nums:int=2)->list[str]:\n",
    "    with open('names.txt',mode='r',encoding='utf-8') as file:\n",
    "        names_str = file.read()\n",
    "    names = names_str.split()\n",
    "    names = random.choices(names,k=nums)\n",
    "    return  names\n"
   ]
  },
  {
   "cell_type": "code",
   "execution_count": 13,
   "metadata": {},
   "outputs": [],
   "source": [
    "class BMI():\n",
    "    def __init__(self,name:str,height:int,weight:int):\n",
    "        self.name = name\n",
    "        self.height = height\n",
    "        self.weight = weight\n",
    "    \n",
    "    def get_bmi(self)->float:\n",
    "        return round(self.weight / (self.height/100) ** 2,ndigits=2)\n",
    "    \n",
    "    def get_status(self)->str:\n",
    "        bmi = self.get_bmi()\n",
    "        if bmi >=35:\n",
    "            status = \"您的體重:重度肥胖\"\n",
    "        elif bmi >= 30:\n",
    "            status = \"您的體重:中度肥胖\"\n",
    "        elif bmi >= 27:\n",
    "            status = \"您的體重:輕度肥胖\"\n",
    "        elif bmi >= 24:\n",
    "            status = \"您的體重:過重\"\n",
    "        elif bmi >= 18.5:\n",
    "            status = \"您的體重:正常範圍\"\n",
    "        else:\n",
    "            status = \"您的體重:體重過輕\"\n",
    "        \n",
    "        return status"
   ]
  },
  {
   "cell_type": "code",
   "execution_count": 14,
   "metadata": {},
   "outputs": [],
   "source": [
    "def generate_bmi(names:list[str])->list[BMI]:\n",
    "    students:list[dict] = []\n",
    "    for name in names:\n",
    "        height = random.randint(140,190)\n",
    "        weight = random.randint(50,110)\n",
    "        bmi = BMI(name=name,height=height,weight=weight)\n",
    "        students.append(bmi)\n",
    "    return students"
   ]
  },
  {
   "cell_type": "code",
   "execution_count": null,
   "metadata": {},
   "outputs": [
    {
     "name": "stdout",
     "output_type": "stream",
     "text": [
      "姓名:蘇婷婷\n",
      "身高:175cm\n",
      "體重:52kg\n",
      "BMI:16.98\n",
      "狀態:您的體重:體重過輕\n",
      "==================\n",
      "姓名:吳志宣\n",
      "身高:184cm\n",
      "體重:59kg\n",
      "BMI:17.43\n",
      "狀態:您的體重:體重過輕\n",
      "==================\n",
      "姓名:黃心航\n",
      "身高:162cm\n",
      "體重:78kg\n",
      "BMI:29.72\n",
      "狀態:您的體重:輕度肥胖\n",
      "==================\n",
      "姓名:聶心怡\n",
      "身高:140cm\n",
      "體重:95kg\n",
      "BMI:48.47\n",
      "狀態:您的體重:重度肥胖\n",
      "==================\n",
      "姓名:戴萱能\n",
      "身高:146cm\n",
      "體重:93kg\n",
      "BMI:43.63\n",
      "狀態:您的體重:重度肥胖\n",
      "==================\n"
     ]
    }
   ],
   "source": [
    "if __name__ == '__main__':\n",
    "    nums = int(input('請輸入人數:'))\n",
    "    names:list[str] = get_name(nums=nums)\n",
    "    students:list[dict] = generate_bmi(names=names)\n",
    "    for student in students:\n",
    "        print(f'姓名:{student.name}')\n",
    "        print(f'身高:{student.height}cm')\n",
    "        print(f'體重:{student.weight}kg')\n",
    "        print(f'BMI:{student.get_bmi()}')\n",
    "        print(f'狀態:{student.get_status()}')\n",
    "        print(\"==================\")"
   ]
  }
 ],
 "metadata": {
  "kernelspec": {
   "display_name": "Python 3",
   "language": "python",
   "name": "python3"
  },
  "language_info": {
   "codemirror_mode": {
    "name": "ipython",
    "version": 3
   },
   "file_extension": ".py",
   "mimetype": "text/x-python",
   "name": "python",
   "nbconvert_exporter": "python",
   "pygments_lexer": "ipython3",
   "version": "3.10.15"
  }
 },
 "nbformat": 4,
 "nbformat_minor": 2
}
